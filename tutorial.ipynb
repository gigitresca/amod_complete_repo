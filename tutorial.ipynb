{
 "cells": [
  {
   "cell_type": "code",
   "execution_count": 1,
   "metadata": {},
   "outputs": [],
   "source": [
    "import warnings\n",
    "warnings.filterwarnings(\"ignore\")"
   ]
  },
  {
   "cell_type": "code",
   "execution_count": 2,
   "metadata": {},
   "outputs": [],
   "source": [
    "from testing import test\n",
    "from train import train"
   ]
  },
  {
   "cell_type": "markdown",
   "metadata": {},
   "source": [
    "### 1. SUMO Visualizations"
   ]
  },
  {
   "cell_type": "markdown",
   "metadata": {},
   "source": [
    "### 2. The macro environment "
   ]
  },
  {
   "cell_type": "markdown",
   "metadata": {},
   "source": [
    "The macro envorinment is based on taxi record data colleted in various city, e.g. New York City, San Francisco, Washignton DC, Shenzhen. In each scenarion, the road network is segmented into stations by clustering junctions such that the travel time within each station is upper-bounded by a given error tolerance. "
   ]
  },
  {
   "cell_type": "markdown",
   "metadata": {},
   "source": [
    "<img src=\"figures/washington_dc.png\" alt=\"drawing\" width=\"250\"/>"
   ]
  },
  {
   "cell_type": "markdown",
   "metadata": {},
   "source": [
    "In this notebook, we are looking at the nyc brooklyn scenario. The graph consits of 14 nodes with the following aggregated demand distributin over on epsisode:\n",
    "\n",
    "***Graph for the NYC Brooklyn Data - Aggregated Demand***"
   ]
  },
  {
   "cell_type": "markdown",
   "metadata": {},
   "source": [
    "<img src=\"figures/graph_nyc_2.png\" alt=\"drawing\" width=\"400\"/>"
   ]
  },
  {
   "cell_type": "markdown",
   "metadata": {},
   "source": [
    "## 3. Baselines"
   ]
  },
  {
   "cell_type": "markdown",
   "metadata": {},
   "source": [
    "This repository provides a set of baseline policies, that aim to outperform the no-control policy, which serves as the lower bound. \n",
    "The simplest of these is the random rebalancing policy. We evaluate its performance against the no-control policy by assessing total profit, calculated as the profit from passengers served minus the cost of rebalancing."
   ]
  },
  {
   "cell_type": "code",
   "execution_count": 3,
   "metadata": {},
   "outputs": [
    {
     "name": "stderr",
     "output_type": "stream",
     "text": [
      "  0%|          | 0/1 [00:00<?, ?it/s]"
     ]
    },
    {
     "name": "stdout",
     "output_type": "stream",
     "text": [
      "Testing model random on macro environment\n"
     ]
    },
    {
     "name": "stderr",
     "output_type": "stream",
     "text": [
      "Test Episode 1 | Reward: 20813.44 | ServedDemand: 45067.44 | Reb. Cost: 24254.00: 100%|██████████| 1/1 [00:01<00:00,  1.65s/it]"
     ]
    },
    {
     "name": "stdout",
     "output_type": "stream",
     "text": [
      "Mean Episode Profit ($):  20813.44157499394\n",
      "Mean Episode Served Demand- Proit($):  45067.44157499393\n",
      "Mean Episode Rebalancing Cost($):  24254.0\n"
     ]
    },
    {
     "name": "stderr",
     "output_type": "stream",
     "text": [
      "\n"
     ]
    },
    {
     "data": {
      "image/png": "[encoded data removed]",
      "text/plain": [
       "<Figure size 576x360 with 1 Axes>"
      ]
     },
     "metadata": {
      "needs_background": "light"
     },
     "output_type": "display_data"
    }
   ],
   "source": [
    "config = {\n",
    "    \"simulator.name\": \"macro\",\n",
    "    \"model.name\": \"random\",\n",
    "    \"simulator.city\": \"nyc_brooklyn\",\n",
    "    \"model.cplexpath\": None, \n",
    "    \"model.test_episodes\": 1,\n",
    "}\n",
    "test(config)"
   ]
  },
  {
   "cell_type": "markdown",
   "metadata": {},
   "source": [
    "### Implement your own controller"
   ]
  },
  {
   "cell_type": "markdown",
   "metadata": {},
   "source": [
    "The random rebalancing policy is not able to outperform the no control baseline. Let's implement one that does. We can impelemnt a control policy, which tries to reach an equal distribution of vehicles in the network with the minmial rebalancing cost.\n",
    "\n",
    "Can you do it? "
   ]
  },
  {
   "cell_type": "code",
   "execution_count": null,
   "metadata": {},
   "outputs": [],
   "source": [
    "from src.misc.utils import dictsum\n",
    "from src.algos.reb_flow_solver import solveRebFlow\n",
    "from src.algos.base import BaseAlgorithm\n",
    "\n",
    "\n",
    "class EqualDistribution(BaseAlgorithm):\n",
    "    def __init__(self, **kwargs):\n",
    "        \"\"\"\n",
    "        :param cplexpath: Path to the CPLEX solver.\n",
    "        \"\"\"\n",
    "        self.cplexpath = kwargs.get('cplexpath') #None, for no CPLEX\n",
    "        self.directory = kwargs.get('directory')\n",
    "\n",
    "    def select_action(self, env):\n",
    "        \"\"\"\n",
    "        Implements the Equal Distribution (ED) baseline for rebalancing.\n",
    "        \"\"\"\n",
    "        #determines the desired vehicle distirbutions\n",
    "        nregions = env.nregion # number of regions in this scenario\n",
    "        \n",
    "        action = TODO\n",
    "        \n",
    "        #calculates the desirebd number of vehicles in each region\n",
    "        desired_acc = {\n",
    "            env.region[i]: int(action[i] * dictsum(env.acc, env.time +1))\n",
    "            for i in range(len(env.region))\n",
    "        }\n",
    "\n",
    "        #calculated the min-cost rebalancing flow to reach desried distirbution\n",
    "        reb_action = solveRebFlow(env, self.directory, desired_acc, self.cplexpath) \n",
    "        \n",
    "        return reb_action"
   ]
  },
  {
   "cell_type": "markdown",
   "metadata": {},
   "source": [
    "When done compare your result to the actual impelementation of the equal distribution baseline in **src/algos/ed.py** and observe the performance:"
   ]
  },
  {
   "cell_type": "code",
   "execution_count": 4,
   "metadata": {},
   "outputs": [
    {
     "name": "stderr",
     "output_type": "stream",
     "text": [
      "  0%|          | 0/1 [00:00<?, ?it/s]"
     ]
    },
    {
     "name": "stdout",
     "output_type": "stream",
     "text": [
      "Testing model equal_distribution on macro environment\n"
     ]
    },
    {
     "name": "stderr",
     "output_type": "stream",
     "text": [
      "Test Episode 1 | Reward: 47922.52 | ServedDemand: 58446.52 | Reb. Cost: 10524.00: 100%|██████████| 1/1 [00:01<00:00,  1.62s/it]"
     ]
    },
    {
     "name": "stdout",
     "output_type": "stream",
     "text": [
      "Mean Episode Profit ($):  47922.518415573475\n",
      "Mean Episode Served Demand- Proit($):  58446.518415573475\n",
      "Mean Episode Rebalancing Cost($):  10524.0\n"
     ]
    },
    {
     "name": "stderr",
     "output_type": "stream",
     "text": [
      "\n"
     ]
    },
    {
     "data": {
      "image/png": "[encoded data removed]",
      "text/plain": [
       "<Figure size 576x360 with 1 Axes>"
      ]
     },
     "metadata": {
      "needs_background": "light"
     },
     "output_type": "display_data"
    }
   ],
   "source": [
    "config = {\n",
    "    \"simulator.name\": \"macro\",\n",
    "    \"model.name\": \"equal_distribution\",\n",
    "    \"simulator.city\": \"nyc_brooklyn\",\n",
    "    \"model.cplexpath\": None, \n",
    "    \"model.test_episodes\": 1,\n",
    "}\n",
    "test(config)"
   ]
  },
  {
   "cell_type": "markdown",
   "metadata": {},
   "source": [
    "## 4. RL-based policies "
   ]
  },
  {
   "cell_type": "code",
   "execution_count": null,
   "metadata": {},
   "outputs": [],
   "source": [
    "config = {\n",
    "    \"simulator.name\": \"macro\",\n",
    "    \"model.name\": \"sac\",\n",
    "    \"simulator.city\": \"nyc_brooklyn\",\n",
    "    \"model.cplexpath\": None, \n",
    "    \"model.test_episodes\": 10,\n",
    "    \"model.checkpoint_path\": \"SAC_nyc_brooklyn\"\n",
    "}\n",
    "test(config)"
   ]
  },
  {
   "cell_type": "markdown",
   "metadata": {},
   "source": [
    "### Implement an RL agent"
   ]
  },
  {
   "cell_type": "markdown",
   "metadata": {},
   "source": [
    "Generally an actor takes the current state as input and outputs the next action: "
   ]
  },
  {
   "cell_type": "code",
   "execution_count": 5,
   "metadata": {},
   "outputs": [],
   "source": [
    "from torch import nn\n",
    "import torch.nn.functional as F\n",
    "from torch.distributions import Dirichlet\n",
    "\n",
    "class Actor(nn.Module):\n",
    "    \"\"\"\n",
    "    Actor \\pi(a_t | s_t) parametrizing the concentration parameters of a Dirichlet Policy.\n",
    "    \"\"\"\n",
    "\n",
    "    def __init__(self, in_channels, act_dim, hidden_size=32):\n",
    "        super().__init__()\n",
    "      \n",
    "        self.lin1 = nn.Linear(in_channels, hidden_size)\n",
    "        self.lin2 = nn.Linear(hidden_size, hidden_size)\n",
    "        self.lin3 = nn.Linear(hidden_size, act_dim)\n",
    "\n",
    "    def forward(self, state):\n",
    "        x = F.leaky_relu(self.lin1(state))\n",
    "        x = F.leaky_relu(self.lin2(x))\n",
    "        x = F.softplus(self.lin3(x))\n",
    "    \n",
    "        concentration = x.squeeze(-1)\n",
    "    \n",
    "        m = Dirichlet(concentration + 1e-20)\n",
    "        action = m.rsample()\n",
    "        return action"
   ]
  },
  {
   "cell_type": "code",
   "execution_count": 6,
   "metadata": {},
   "outputs": [
    {
     "data": {
      "text/plain": [
       "torch.Size([14])"
      ]
     },
     "execution_count": 6,
     "metadata": {},
     "output_type": "execute_result"
    }
   ],
   "source": [
    "import torch\n",
    "'''\n",
    "The state consits of 14 nodes with 13 node features\n",
    "'''\n",
    "state = torch.ones(14, 13) \n",
    "\n",
    "state = state.flatten()\n",
    "\n",
    "actor = Actor(in_channels=14*13, act_dim=14)\n",
    "\n",
    "action = actor(state)\n",
    "\n",
    "action.shape"
   ]
  },
  {
   "cell_type": "code",
   "execution_count": 9,
   "metadata": {},
   "outputs": [],
   "source": [
    "from torch import nn\n",
    "import torch.nn.functional as F\n",
    "from torch.distributions import Dirichlet\n",
    "from torch_geometric.nn import GCNConv\n",
    "\n",
    "class GNNActor(nn.Module):\n",
    "    \"\"\"\n",
    "    Actor \\pi(a_t | s_t)\n",
    "    \"\"\"\n",
    "\n",
    "    def __init__(self, in_channels, hidden_size=32):\n",
    "        super().__init__()\n",
    "        self.conv1 = TODO\n",
    "        self.lin1 = nn.Linear(in_channels, hidden_size)\n",
    "        self.lin2 = nn.Linear(hidden_size, hidden_size)\n",
    "        self.lin3 = nn.Linear(hidden_size, 1)\n",
    "\n",
    "    def forward(self, state, edge_index):\n",
    "        out = F.relu(self.conv1(state, edge_index))\n",
    "        x = out + state\n",
    "        x = x.reshape(-1, self.act_dim, self.in_channels)\n",
    "    \n",
    "        x = F.leaky_relu(self.lin1(x))\n",
    "        x = F.leaky_relu(self.lin2(x))\n",
    "        x = F.softplus(self.lin3(x))\n",
    "        \n",
    "        concentration = x.squeeze(-1)\n",
    "\n",
    "        m = Dirichlet(concentration + 1e-20)\n",
    "        action = m.rsample()\n",
    "\n",
    "        return action"
   ]
  },
  {
   "cell_type": "code",
   "execution_count": null,
   "metadata": {},
   "outputs": [],
   "source": [
    "state = torch.ones(14, 13) \n",
    "\n",
    "actor = GNNActor(in_channels=13)\n",
    "\n",
    "action = actor(state)\n",
    "\n",
    "action.shape"
   ]
  },
  {
   "cell_type": "markdown",
   "metadata": {},
   "source": [
    "When done you can compare to the actual implementation in src/nets/actor.py"
   ]
  },
  {
   "cell_type": "markdown",
   "metadata": {},
   "source": [
    "### Implement an RL agent"
   ]
  },
  {
   "cell_type": "code",
   "execution_count": 14,
   "metadata": {},
   "outputs": [
    {
     "name": "stderr",
     "output_type": "stream",
     "text": [
      "  0%|          | 0/5 [00:00<?, ?it/s]"
     ]
    },
    {
     "name": "stderr",
     "output_type": "stream",
     "text": [
      "Episode 5 | Reward: 42646.00 | ServedDemand: 51787.00 | Reb. Cost: 9141.00: 100%|██████████| 5/5 [00:09<00:00,  1.81s/it]\n"
     ]
    }
   ],
   "source": [
    "from train import train\n",
    "config = {\n",
    "    \"simulator.name\": \"macro\",\n",
    "    \"model.name\": \"sac\",\n",
    "    \"simulator.city\": \"nyc_brooklyn\",\n",
    "    \"model.cplexpath\": None, \n",
    "    \"simulator.cplexpath\": None,\n",
    "    \"model.checkpoint_path\": \"SAC_custom\",\n",
    "    \"model.max_episodes\": 5,\n",
    "}\n",
    "train(config)"
   ]
  },
  {
   "cell_type": "code",
   "execution_count": 15,
   "metadata": {},
   "outputs": [
    {
     "name": "stderr",
     "output_type": "stream",
     "text": [
      "  0%|          | 0/10 [00:00<?, ?it/s]"
     ]
    },
    {
     "name": "stdout",
     "output_type": "stream",
     "text": [
      "Testing model sac on macro environment\n"
     ]
    },
    {
     "name": "stderr",
     "output_type": "stream",
     "text": [
      "Test Episode 10 | Reward: 50088.55 | ServedDemand: 61254.55 | Reb. Cost: 11166.00: 100%|██████████| 10/10 [00:18<00:00,  1.80s/it]"
     ]
    },
    {
     "name": "stdout",
     "output_type": "stream",
     "text": [
      "Mean Episode Profit ($):  50507.090610329826\n",
      "Mean Episode Served Demand- Proit($):  61834.290610329816\n",
      "Mean Episode Rebalancing Cost($):  11327.2\n"
     ]
    },
    {
     "name": "stderr",
     "output_type": "stream",
     "text": [
      "\n"
     ]
    },
    {
     "data": {
      "image/png": "[encoded data removed]",
      "text/plain": [
       "<Figure size 576x360 with 1 Axes>"
      ]
     },
     "metadata": {
      "needs_background": "light"
     },
     "output_type": "display_data"
    }
   ],
   "source": [
    "test(config)"
   ]
  },
  {
   "cell_type": "code",
   "execution_count": null,
   "metadata": {},
   "outputs": [],
   "source": []
  }
 ],
 "metadata": {
  "kernelspec": {
   "display_name": "amod2",
   "language": "python",
   "name": "python3"
  },
  "language_info": {
   "codemirror_mode": {
    "name": "ipython",
    "version": 3
   },
   "file_extension": ".py",
   "mimetype": "text/x-python",
   "name": "python",
   "nbconvert_exporter": "python",
   "pygments_lexer": "ipython3",
   "version": "3.8.17"
  }
 },
 "nbformat": 4,
 "nbformat_minor": 2
}
