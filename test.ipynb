{
 "cells": [
  {
   "cell_type": "code",
   "execution_count": 1,
   "metadata": {},
   "outputs": [],
   "source": [
    "from test import setup_macro, setup_sumo, setup_model"
   ]
  },
  {
   "cell_type": "code",
   "execution_count": 4,
   "metadata": {},
   "outputs": [],
   "source": [
    "#surpress warnings\n",
    "import warnings\n",
    "warnings.filterwarnings(\"ignore\")"
   ]
  },
  {
   "cell_type": "code",
   "execution_count": 5,
   "metadata": {},
   "outputs": [],
   "source": [
    "import torch\n",
    "import numpy as np\n",
    "from hydra import initialize, compose\n",
    "\n",
    "def test(config):\n",
    "\n",
    "    with initialize(config_path=\"src/config\"):\n",
    "        cfg = compose(config_name=\"config\", overrides= [f\"{key}={value}\" for key, value in config.items()])  # Load the configuration\n",
    "        \n",
    "    # Import simulator module based on the configuration\n",
    "    simulator_name = cfg.simulator.name\n",
    "    if simulator_name == \"sumo\":\n",
    "        env, parser = setup_sumo(cfg)\n",
    "    elif simulator_name == \"macro\":\n",
    "        env, parser = setup_macro(cfg)\n",
    "    else:\n",
    "        raise ValueError(f\"Unknown simulator: {simulator_name}\")\n",
    "    \n",
    "    use_cuda = not cfg.model.no_cuda and torch.cuda.is_available()\n",
    "    device = torch.device(\"cuda\" if use_cuda else \"cpu\")\n",
    "\n",
    "    model = setup_model(cfg, env, parser, device)\n",
    "\n",
    "    print(f'Testing model {cfg.model.name} on {cfg.simulator.name} environment')\n",
    "    episode_reward, episode_served_demand, episode_rebalancing_cost = model.test(10, env)\n",
    "\n",
    "    print('Mean Episode Reward: ', np.mean(episode_reward), 'Std Episode Reward: ', np.std(episode_reward))\n",
    "    print('Mean Episode Served Demand: ', np.mean(episode_served_demand), 'Std Episode Served Demand: ', np.std(episode_served_demand))\n",
    "    print('Mean Episode Rebalancing Cost: ', np.mean(episode_rebalancing_cost), 'Std Episode Rebalancing Cost: ', np.std(episode_rebalancing_cost))\n",
    "\n",
    "    ##TODO: ADD VISUALIZATION\n",
    "    #return episode_reward, episode_served_demand, episode_rebalancing_cost\n"
   ]
  },
  {
   "cell_type": "markdown",
   "metadata": {},
   "source": [
    "## Configuration Parameters\n",
    "\n",
    "You can choose from the following options:\n",
    "\n",
    "### Simulator:\n",
    "- **macro**\n",
    "- **sumo**\n",
    "\n",
    "### Model:\n",
    "- **sac** (Soft Actor-Critic)\n",
    "- **a2c** (Advantage Actor-Critic)\n",
    "- **no_rebalancing**\n",
    "- **plus_one** \n",
    "- **equal_distribution** \n",
    "\n"
   ]
  },
  {
   "cell_type": "code",
   "execution_count": 8,
   "metadata": {},
   "outputs": [
    {
     "name": "stdout",
     "output_type": "stream",
     "text": [
      "Testing model sac on macro environment\n",
      "Mean Episode Reward:  45719.85187578983 Std Episode Reward:  0.0\n",
      "Mean Episode Served Demand:  2865.4 Std Episode Served Demand:  0.0\n",
      "Mean Episode Rebalancing Cost:  445.8 Std Episode Rebalancing Cost:  0.0\n"
     ]
    }
   ],
   "source": [
    "config = {\n",
    "    \"simulator.name\": \"macro\",\n",
    "    \"model.name\": \"sac\",\n",
    "    \"simulator.city\": \"nyc_brooklyn\",\n",
    "}\n",
    "test(config)"
   ]
  },
  {
   "cell_type": "code",
   "execution_count": 6,
   "metadata": {},
   "outputs": [
    {
     "name": "stdout",
     "output_type": "stream",
     "text": [
      "Testing model equal_distribution on macro environment\n",
      "Mean Episode Reward:  49221.79495712959 Std Episode Reward:  1016.2832587489811\n",
      "Mean Episode Served Demand:  2984.1 Std Episode Served Demand:  65.53235841933358\n",
      "Mean Episode Rebalancing Cost:  522.8 Std Episode Rebalancing Cost:  59.27022861437266\n"
     ]
    }
   ],
   "source": [
    "config = {\n",
    "    \"simulator.name\": \"macro\",\n",
    "    \"model.name\": \"equal_distribution\",\n",
    "    \"simulator.city\": \"nyc_brooklyn\",\n",
    "}\n",
    "test(config)"
   ]
  },
  {
   "cell_type": "code",
   "execution_count": 7,
   "metadata": {},
   "outputs": [
    {
     "name": "stdout",
     "output_type": "stream",
     "text": [
      "Testing model equal_distribution on macro environment\n",
      "Mean Episode Reward:  49166.67480956457 Std Episode Reward:  718.4252287993113\n",
      "Mean Episode Served Demand:  2981.6 Std Episode Served Demand:  54.380511214956414\n",
      "Mean Episode Rebalancing Cost:  498.4 Std Episode Rebalancing Cost:  60.171754170873236\n"
     ]
    }
   ],
   "source": [
    "config = {\n",
    "    \"simulator.name\": \"macro\",\n",
    "    \"model.name\": \"equal_distribution\",\n",
    "    \"simulator.city\": \"nyc_brooklyn\",\n",
    "    \"model.cplexpath\": None, \n",
    "}\n",
    "test(config)"
   ]
  },
  {
   "cell_type": "code",
   "execution_count": null,
   "metadata": {},
   "outputs": [],
   "source": []
  }
 ],
 "metadata": {
  "kernelspec": {
   "display_name": "amod2",
   "language": "python",
   "name": "python3"
  },
  "language_info": {
   "codemirror_mode": {
    "name": "ipython",
    "version": 3
   },
   "file_extension": ".py",
   "mimetype": "text/x-python",
   "name": "python",
   "nbconvert_exporter": "python",
   "pygments_lexer": "ipython3",
   "version": "3.8.17"
  }
 },
 "nbformat": 4,
 "nbformat_minor": 2
}
